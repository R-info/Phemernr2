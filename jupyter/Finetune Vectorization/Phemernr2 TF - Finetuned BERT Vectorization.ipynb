{
 "cells": [
  {
   "cell_type": "code",
   "execution_count": null,
   "id": "629a58c7",
   "metadata": {},
   "outputs": [],
   "source": [
    "from transformers import AutoModelForSequenceClassification, AutoTokenizer\n",
    "from sentence_transformers.models import Pooling\n",
    "\n",
    "pooling_layer = Pooling(768)\n",
    "tokenizer = AutoTokenizer.from_pretrained(\"bert-base-cased\")\n",
    "model = AutoModelForSequenceClassification.from_pretrained(\n",
    "    \"../../data/models/bert-base-finetuned-phemernr2-tf/checkpoint-1470/\",\n",
    "    output_hidden_states=True, num_labels=2)\n",
    "\n",
    "model.to(\"cuda\")\n",
    "print(\"Loading done\")"
   ]
  },
  {
   "cell_type": "code",
   "execution_count": null,
   "id": "5c929727",
   "metadata": {},
   "outputs": [],
   "source": [
    "def encode_text(text):\n",
    "    inputs = tokenizer(text, return_tensors=\"pt\")\n",
    "    inputs.to(\"cuda\")\n",
    "    token_logits = model(inputs['input_ids'])\n",
    "\n",
    "    embeddings = token_logits.hidden_states[-1]\n",
    "\n",
    "    inputs = {\n",
    "        'attention_mask': inputs['attention_mask'],\n",
    "        'token_embeddings': embeddings,\n",
    "        'cls_token_embeddings': None\n",
    "    }\n",
    "    result = pooling_layer.forward(inputs)\n",
    "    result = result['sentence_embedding'].cpu().detach().numpy()\n",
    "\n",
    "    return result\n",
    "\n",
    "def encode_and_save(texts, savefile = None):\n",
    "    if not savefile:\n",
    "        print(\"Please define savefile\")\n",
    "        return\n",
    "    \n",
    "    vectors = []\n",
    "    for text in texts:\n",
    "        vectors.append(encode_text(text))\n",
    "    \n",
    "    vectors = np.array(vectors).reshape((len(texts), 768))\n",
    "    \n",
    "    with open(f\"../../data/vectors/{savefile}.txt\", \"wb\") as f:\n",
    "        np.savetxt(f, vectors, delimiter=',', fmt='%s')"
   ]
  },
  {
   "cell_type": "code",
   "execution_count": null,
   "id": "bb7e1bf1",
   "metadata": {},
   "outputs": [],
   "source": [
    "import pandas as pd\n",
    "import numpy as np\n",
    "\n",
    "data = pd.read_csv(\"../../data/phemernr2-tf_dataset.csv\", lineterminator=\"\\n\")\n",
    "data.head()"
   ]
  },
  {
   "cell_type": "code",
   "execution_count": null,
   "id": "4a3add31",
   "metadata": {},
   "outputs": [],
   "source": [
    "data.shape"
   ]
  },
  {
   "cell_type": "code",
   "execution_count": null,
   "id": "8bc17a78",
   "metadata": {},
   "outputs": [],
   "source": [
    "savefile = \"Phemernr2-TF_BERT_base_finetuned_vectors\"\n",
    "texts = data['tweet_text'].tolist()\n",
    "\n",
    "encode_and_save(texts, savefile)"
   ]
  },
  {
   "cell_type": "code",
   "execution_count": null,
   "id": "0473c591",
   "metadata": {},
   "outputs": [],
   "source": [
    "vectors = np.loadtxt(f\"../../data/vectors/{savefile}.txt\", delimiter=\",\")\n",
    "vectors.shape"
   ]
  },
  {
   "cell_type": "code",
   "execution_count": null,
   "id": "11e3977e",
   "metadata": {},
   "outputs": [],
   "source": []
  }
 ],
 "metadata": {
  "kernelspec": {
   "display_name": "Python 3 (ipykernel)",
   "language": "python",
   "name": "python3"
  },
  "language_info": {
   "codemirror_mode": {
    "name": "ipython",
    "version": 3
   },
   "file_extension": ".py",
   "mimetype": "text/x-python",
   "name": "python",
   "nbconvert_exporter": "python",
   "pygments_lexer": "ipython3",
   "version": "3.9.5"
  }
 },
 "nbformat": 4,
 "nbformat_minor": 5
}
